{
 "cells": [
  {
   "cell_type": "code",
   "execution_count": 36,
   "id": "3cf536e7-9565-49b8-b0d0-54d94d7d3ffa",
   "metadata": {},
   "outputs": [],
   "source": [
    "# Test for the estimation of a single image key-points\n",
    "\n",
    "import argparse\n",
    "import grpc\n",
    "import io\n",
    "import matplotlib.pyplot as plt\n",
    "import generic_box_pb2\n",
    "import generic_box_pb2_grpc\n",
    "from scipy.io import savemat, loadmat\n",
    "import PIL.Image as PIL_image\n",
    "import cv2 as cv\n",
    "import pickle"
   ]
  },
  {
   "cell_type": "markdown",
   "id": "6236594b-6e39-476d-a9ce-4657821a24ac",
   "metadata": {},
   "source": [
    "## These functions assume the matlab file has one image in variable \"image\""
   ]
  },
  {
   "cell_type": "code",
   "execution_count": 37,
   "id": "3890840e-182f-4f36-82c4-27c3b621e389",
   "metadata": {},
   "outputs": [],
   "source": [
    "\n",
    "def process_image(stub, image_path):\n",
    "    print(f'Processing image: \\'{image_path}\\'')\n",
    "    with open(image_path, 'rb') as fp:\n",
    "        image_bytes = fp.read()\n",
    "    request = generic_box_pb2.Data(file=generic_box_pb2.File(data=image_bytes))\n",
    "    response = stub.predict(request)\n",
    "    \n",
    "    return stub.plot(response)\n",
    "\n",
    "\n",
    "def display_image(Data):\n",
    "    dados=loadmat(io.BytesIO(Data.data))\n",
    "#    img = PIL_image.open(io.BytesIO(image.data))\n",
    "    img=dados['im0']\n",
    "    ax = plt.gca()\n",
    "    ax.imshow(img)\n",
    "    plt.show()\n"
   ]
  },
  {
   "cell_type": "markdown",
   "id": "00e250e5-b3d5-45f3-9936-19d8b0efed15",
   "metadata": {},
   "source": [
    "### Rotina de teste: cria stub para o serviço,chama função que envia mensagem\n",
    "Target - Nó onde está a correr o serviço"
   ]
  },
  {
   "cell_type": "code",
   "execution_count": 38,
   "id": "b802d3c5-b481-4072-97f1-ee966ae9891c",
   "metadata": {},
   "outputs": [
    {
     "name": "stdout",
     "output_type": "stream",
     "text": [
      "Processing image: 'img.mat'\n"
     ]
    },
    {
     "ename": "KeyError",
     "evalue": "'im'",
     "output_type": "error",
     "traceback": [
      "\u001b[1;31m---------------------------------------------------------------------------\u001b[0m",
      "\u001b[1;31mKeyError\u001b[0m                                  Traceback (most recent call last)",
      "Cell \u001b[1;32mIn[38], line 7\u001b[0m\n\u001b[0;32m      5\u001b[0m \u001b[38;5;28;01mtry\u001b[39;00m:\n\u001b[0;32m      6\u001b[0m     response \u001b[38;5;241m=\u001b[39m process_image(estimator_stub, image_path)\n\u001b[1;32m----> 7\u001b[0m     \u001b[43mdisplay_image\u001b[49m\u001b[43m(\u001b[49m\u001b[43mresponse\u001b[49m\u001b[43m)\u001b[49m\n\u001b[0;32m      8\u001b[0m \u001b[38;5;28;01mexcept\u001b[39;00m grpc\u001b[38;5;241m.\u001b[39mRpcError \u001b[38;5;28;01mas\u001b[39;00m rpc_error:\n\u001b[0;32m      9\u001b[0m     \u001b[38;5;28mprint\u001b[39m(\u001b[38;5;124m'\u001b[39m\u001b[38;5;124mAn error has occurred:\u001b[39m\u001b[38;5;124m'\u001b[39m)\n",
      "Cell \u001b[1;32mIn[37], line 14\u001b[0m, in \u001b[0;36mdisplay_image\u001b[1;34m(Data)\u001b[0m\n\u001b[0;32m     12\u001b[0m     dados\u001b[38;5;241m=\u001b[39mloadmat(io\u001b[38;5;241m.\u001b[39mBytesIO(Data\u001b[38;5;241m.\u001b[39mdata))\n\u001b[0;32m     13\u001b[0m \u001b[38;5;66;03m#    img = PIL_image.open(io.BytesIO(image.data))\u001b[39;00m\n\u001b[1;32m---> 14\u001b[0m     img\u001b[38;5;241m=\u001b[39m\u001b[43mdados\u001b[49m\u001b[43m[\u001b[49m\u001b[38;5;124;43m'\u001b[39;49m\u001b[38;5;124;43mim\u001b[39;49m\u001b[38;5;124;43m'\u001b[39;49m\u001b[43m]\u001b[49m\n\u001b[0;32m     15\u001b[0m     ax \u001b[38;5;241m=\u001b[39m plt\u001b[38;5;241m.\u001b[39mgca()\n\u001b[0;32m     16\u001b[0m     ax\u001b[38;5;241m.\u001b[39mimshow(img)\n",
      "\u001b[1;31mKeyError\u001b[0m: 'im'"
     ]
    }
   ],
   "source": [
    "    target = 'localhost:8061'\n",
    "    image_path = \"img.mat\"\n",
    "    with grpc.insecure_channel(target) as channel:\n",
    "        estimator_stub = generic_box_pb2_grpc.GenericBoxServiceStub(channel)\n",
    "        try:\n",
    "            response = process_image(estimator_stub, image_path)\n",
    "            display_image(response)\n",
    "        except grpc.RpcError as rpc_error:\n",
    "            print('An error has occurred:')\n",
    "            print(f'  Error Code: {rpc_error.code()}')\n",
    "            print(f'  Details: {rpc_error.details()}')\n"
   ]
  },
  {
   "cell_type": "code",
   "execution_count": null,
   "id": "ef5e8eb5-93fc-463d-a9de-2aeffaa718bb",
   "metadata": {},
   "outputs": [
    {
     "ename": "SyntaxError",
     "evalue": "invalid syntax (2615864601.py, line 1)",
     "output_type": "error",
     "traceback": [
      "\u001b[1;36m  Cell \u001b[1;32mIn[35], line 1\u001b[1;36m\u001b[0m\n\u001b[1;33m    response.\u001b[0m\n\u001b[1;37m             ^\u001b[0m\n\u001b[1;31mSyntaxError\u001b[0m\u001b[1;31m:\u001b[0m invalid syntax\n"
     ]
    }
   ],
   "source": [
    "response."
   ]
  }
 ],
 "metadata": {
  "kernelspec": {
   "display_name": "Python 3 (ipykernel)",
   "language": "python",
   "name": "python3"
  },
  "language_info": {
   "codemirror_mode": {
    "name": "ipython",
    "version": 3
   },
   "file_extension": ".py",
   "mimetype": "text/x-python",
   "name": "python",
   "nbconvert_exporter": "python",
   "pygments_lexer": "ipython3",
   "version": "3.9.9"
  }
 },
 "nbformat": 4,
 "nbformat_minor": 5
}
